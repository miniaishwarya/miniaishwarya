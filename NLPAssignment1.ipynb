{
  "nbformat": 4,
  "nbformat_minor": 0,
  "metadata": {
    "colab": {
      "name": "NLPAssignment1.ipynb",
      "version": "0.3.2",
      "provenance": [],
      "include_colab_link": true
    },
    "kernelspec": {
      "name": "python3",
      "display_name": "Python 3"
    }
  },
  "cells": [
    {
      "cell_type": "markdown",
      "metadata": {
        "id": "view-in-github",
        "colab_type": "text"
      },
      "source": [
        "<a href=\"https://colab.research.google.com/github/miniaishwarya/miniaishwarya/blob/master/NLPAssignment1.ipynb\" target=\"_parent\"><img src=\"https://colab.research.google.com/assets/colab-badge.svg\" alt=\"Open In Colab\"/></a>"
      ]
    },
    {
      "metadata": {
        "id": "63yG0yF693IT",
        "colab_type": "code",
        "colab": {
          "base_uri": "https://localhost:8080/",
          "height": 52
        },
        "outputId": "e815ee0d-7636-4e55-a646-e611b487cd83"
      },
      "cell_type": "code",
      "source": [
        "!pip install nltk"
      ],
      "execution_count": 5,
      "outputs": [
        {
          "output_type": "stream",
          "text": [
            "Requirement already satisfied: nltk in /usr/local/lib/python3.6/dist-packages (3.2.5)\n",
            "Requirement already satisfied: six in /usr/local/lib/python3.6/dist-packages (from nltk) (1.11.0)\n"
          ],
          "name": "stdout"
        }
      ]
    },
    {
      "metadata": {
        "id": "wX3DlED8-CEO",
        "colab_type": "code",
        "colab": {
          "base_uri": "https://localhost:8080/",
          "height": 69
        },
        "outputId": "49c54692-52f3-41b5-e1e6-a99f05d672e0"
      },
      "cell_type": "code",
      "source": [
        "import nltk\n",
        "nltk.download('punkt')"
      ],
      "execution_count": 9,
      "outputs": [
        {
          "output_type": "stream",
          "text": [
            "[nltk_data] Downloading package punkt to /root/nltk_data...\n",
            "[nltk_data]   Unzipping tokenizers/punkt.zip.\n"
          ],
          "name": "stdout"
        },
        {
          "output_type": "execute_result",
          "data": {
            "text/plain": [
              "True"
            ]
          },
          "metadata": {
            "tags": []
          },
          "execution_count": 9
        }
      ]
    },
    {
      "metadata": {
        "id": "1_9anyBS-pse",
        "colab_type": "code",
        "colab": {
          "base_uri": "https://localhost:8080/",
          "height": 69
        },
        "outputId": "d547ced6-5bc2-49b4-8fdd-9178c657c56c"
      },
      "cell_type": "code",
      "source": [
        "import nltk\n",
        "nltk.download('stopwords')"
      ],
      "execution_count": 15,
      "outputs": [
        {
          "output_type": "stream",
          "text": [
            "[nltk_data] Downloading package stopwords to /root/nltk_data...\n",
            "[nltk_data]   Unzipping corpora/stopwords.zip.\n"
          ],
          "name": "stdout"
        },
        {
          "output_type": "execute_result",
          "data": {
            "text/plain": [
              "True"
            ]
          },
          "metadata": {
            "tags": []
          },
          "execution_count": 15
        }
      ]
    },
    {
      "metadata": {
        "id": "-TXlvCOlTVXX",
        "colab_type": "code",
        "colab": {
          "base_uri": "https://localhost:8080/",
          "height": 72
        },
        "outputId": "2913b371-94c9-4161-e34f-ccc965f4d4f4"
      },
      "cell_type": "code",
      "source": [
        "import nltk\n",
        "#nltk.download('punkt')\n",
        "#nltk.download('averaged_perceptron_tagger')\n",
        "\n",
        "from nltk.tokenize import sent_tokenize, word_tokenize\n",
        "from nltk.tokenize import PunktSentenceTokenizer\n",
        " \n",
        "data = \"I am drinking milk. I gave my daughter some milk to drink. You get milk from cow. Cow gives us milk.\"\n",
        "sentences = nltk.sent_tokenize(data)\n",
        "\n",
        "print(sentences)\n",
        "\n",
        "data =[]\n",
        "ans=[]\n",
        "word = ''\n",
        "\n",
        "for word in sentences:\n",
        "  data.append(nltk.pos_tag(nltk.word_tokenize(word)))\n",
        "  \n",
        "print(data)\n",
        "\n",
        "#count = 0\n",
        "\n",
        "#for item in data:\n",
        " # if 'NN' in item[1]:\n",
        "  #  ans.append(item)\n",
        "   # count=count+1\n",
        "    \n",
        "#if count >= 5:\n",
        "  #print(count)\n",
        "  #print(ans)\n",
        " \n",
        "  "
      ],
      "execution_count": 35,
      "outputs": [
        {
          "output_type": "stream",
          "text": [
            "['I am drinking milk.', 'I gave my daughter some milk to drink.', 'You get milk from cow.', 'Cow gives us milk.']\n",
            "[[('I', 'PRP'), ('am', 'VBP'), ('drinking', 'VBG'), ('milk', 'NN'), ('.', '.')], [('I', 'PRP'), ('gave', 'VBD'), ('my', 'PRP$'), ('daughter', 'NN'), ('some', 'DT'), ('milk', 'NN'), ('to', 'TO'), ('drink', 'VB'), ('.', '.')], [('You', 'PRP'), ('get', 'VBP'), ('milk', 'VBN'), ('from', 'IN'), ('cow', 'NN'), ('.', '.')], [('Cow', 'NNP'), ('gives', 'VBZ'), ('us', 'PRP'), ('milk', 'NN'), ('.', '.')]]\n"
          ],
          "name": "stdout"
        }
      ]
    }
  ]
}