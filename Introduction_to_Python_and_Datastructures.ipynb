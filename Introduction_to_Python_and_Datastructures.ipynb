{
  "nbformat": 4,
  "nbformat_minor": 0,
  "metadata": {
    "colab": {
      "name": "Introduction to Python and Datastructures.ipynb",
      "version": "0.3.2",
      "provenance": [],
      "include_colab_link": true
    },
    "kernelspec": {
      "display_name": "Python [conda env:anaconda2]",
      "language": "python",
      "name": "conda-env-anaconda2-py"
    }
  },
  "cells": [
    {
      "cell_type": "markdown",
      "metadata": {
        "id": "view-in-github",
        "colab_type": "text"
      },
      "source": [
        "<a href=\"https://colab.research.google.com/github/miniaishwarya/miniaishwarya/blob/master/Introduction_to_Python_and_Datastructures.ipynb\" target=\"_parent\"><img src=\"https://colab.research.google.com/assets/colab-badge.svg\" alt=\"Open In Colab\"/></a>"
      ]
    },
    {
      "metadata": {
        "id": "yJFP8nR6qDu0",
        "colab_type": "text"
      },
      "cell_type": "markdown",
      "source": [
        "# Play with Data"
      ]
    },
    {
      "metadata": {
        "id": "QHe7uX9PqDu7",
        "colab_type": "text"
      },
      "cell_type": "markdown",
      "source": [
        "#### What is Data?\n",
        "\n",
        "- Structured (Log information, Database Entries).\n",
        "- Unstructured Data."
      ]
    },
    {
      "metadata": {
        "id": "-w9RdtoxqDvB",
        "colab_type": "text"
      },
      "cell_type": "markdown",
      "source": [
        "### Data Representations\n",
        "- CSVs\n",
        "- Matrices"
      ]
    },
    {
      "metadata": {
        "id": "YVT5G4shqDvF",
        "colab_type": "text"
      },
      "cell_type": "markdown",
      "source": [
        "<a id='dsp'></a>\n",
        "### Data Structures of Python\n",
        "#### - Lists\n",
        "Array like data structures, no length limit. Very useful for storing series data, etc.\n",
        "#### - Sets, Tuple, etc\n",
        "Array like with additional features.\n",
        "__Set__ - Useful for storing unique elements\n",
        "__Tuple__ - Useful for storing set of elements that won't change.\n",
        "#### - Dictionary\n",
        "Dictionary is very useful for storing key value pairs.\n",
        "\n",
        "[Further Reading](https://docs.python.org/3/tutorial/datastructures.html)\n"
      ]
    },
    {
      "metadata": {
        "id": "zrMZUCQjqDvL",
        "colab_type": "code",
        "colab": {
          "base_uri": "https://localhost:8080/",
          "height": 35
        },
        "outputId": "efd14550-7ee4-4685-e6e6-425a15c567fc"
      },
      "cell_type": "code",
      "source": [
        "## List\n",
        "a = [1, 2, 3]\n",
        "print(a)"
      ],
      "execution_count": 1,
      "outputs": [
        {
          "output_type": "stream",
          "text": [
            "[1, 2, 3]\n"
          ],
          "name": "stdout"
        }
      ]
    },
    {
      "metadata": {
        "id": "ynq78BTQqDvc",
        "colab_type": "code",
        "colab": {}
      },
      "cell_type": "code",
      "source": [
        "## Set\n",
        "a = {1, 2, 3}"
      ],
      "execution_count": 0,
      "outputs": []
    },
    {
      "metadata": {
        "id": "yMgwnPBhqDvp",
        "colab_type": "code",
        "colab": {
          "base_uri": "https://localhost:8080/",
          "height": 35
        },
        "outputId": "5132e3c2-16b6-4360-8f4f-4f1539af3c48"
      },
      "cell_type": "code",
      "source": [
        "## Tuple\n",
        "a = (1, 2, 3)\n",
        "print(a)"
      ],
      "execution_count": 5,
      "outputs": [
        {
          "output_type": "stream",
          "text": [
            "(1, 2, 3)\n"
          ],
          "name": "stdout"
        }
      ]
    },
    {
      "metadata": {
        "id": "Bx-Zrr5yqDv2",
        "colab_type": "code",
        "colab": {
          "base_uri": "https://localhost:8080/",
          "height": 35
        },
        "outputId": "73454b50-7c50-4832-8dbd-bccc1f27a4e5"
      },
      "cell_type": "code",
      "source": [
        "## Dictionary\n",
        "a = {1:'one',2:'two',3:'three'}\n",
        "print(a)"
      ],
      "execution_count": 4,
      "outputs": [
        {
          "output_type": "stream",
          "text": [
            "{1: 'one', 2: 'two', 3: 'three'}\n"
          ],
          "name": "stdout"
        }
      ]
    },
    {
      "metadata": {
        "id": "V_GS9IIfqDwE",
        "colab_type": "text"
      },
      "cell_type": "markdown",
      "source": [
        "#### - Files in Python\n",
        "Files can be opened by using the *open()* function. Takes two main arguments, *filename* and *mode*."
      ]
    },
    {
      "metadata": {
        "id": "a6_3gcSxqDwI",
        "colab_type": "text"
      },
      "cell_type": "markdown",
      "source": [
        "### Data Loading in python.\n",
        "\n",
        "```\n",
        "file = open(filename, fileflag)\n",
        "## Read the lines\n",
        "## Close the file\n",
        "```"
      ]
    },
    {
      "metadata": {
        "id": "gEtE4FqrqDwN",
        "colab_type": "code",
        "colab": {}
      },
      "cell_type": "code",
      "source": [
        "# load the csv file : Data/test.csv.\n",
        "file = open(\"data.csv.txt\",'r')\n",
        "file_data=file.read()"
      ],
      "execution_count": 0,
      "outputs": []
    },
    {
      "metadata": {
        "id": "or8Vy1v6qDwa",
        "colab_type": "text"
      },
      "cell_type": "markdown",
      "source": [
        "##### with keyword\n",
        "the with keyword can be used to open files without closing it by indenting the code block.\n",
        "```\n",
        "with open(filename, 'r') as file: ### equalent to writing file = open(filename, 'r')\n",
        "    print(file.read())\n",
        "print('processing done')\n",
        "```\n",
        "    "
      ]
    },
    {
      "metadata": {
        "scrolled": true,
        "id": "SGOUpiUPqDwd",
        "colab_type": "code",
        "colab": {
          "base_uri": "https://localhost:8080/",
          "height": 312
        },
        "outputId": "1d879e0a-4806-4819-cf9b-7ce5c9bbc7e7"
      },
      "cell_type": "code",
      "source": [
        "# Display the file string representation.\n",
        "print(file_data)\n"
      ],
      "execution_count": 10,
      "outputs": [
        {
          "output_type": "stream",
          "text": [
            "Loan_ID,Gender,Married,Education,ApplicantIncome,LoanAmount,Property_Area\r\n",
            "LP001015,Male,Yes,Graduate,5720,110,Urban\r\n",
            "LP001022,Male,Yes,Graduate,3076,126,Urban\r\n",
            "LP001031,Male,Yes,Graduate,5000,208,Urban\r\n",
            "LP001035,Male,Yes,Graduate,2340,100,Urban\r\n",
            "LP001051,Male,No,Not Graduate,3276,78,Urban\r\n",
            "LP001054,Male,Yes,Not Graduate,2165,152,Urban\r\n",
            "LP001055,Female,No,Not Graduate,2226,59,Semiurban\r\n",
            "LP001056,Male,Yes,Not Graduate,3881,147,Rural\r\n",
            "LP001059,Male,Yes,Graduate,13633,280,Urban\r\n",
            "LP001067,Male,No,Not Graduate,2400,123,Semiurban\r\n",
            "LP001078,Male,No,Not Graduate,3091,90,Urban\r\n",
            "LP001082,Male,Yes,Graduate,2185,162,Semiurban\r\n",
            "LP001083,Male,No,Graduate,4166,40,Urban\r\n",
            "LP001094,Male,Yes,Graduate,12173,166,Semiurban\r\n",
            "LP001096,Female,No,Graduate,4666,124,Semiurban\r\n",
            "LP001099,Male,No,Graduate,5667,131,Urban\n"
          ],
          "name": "stdout"
        }
      ]
    },
    {
      "metadata": {
        "id": "5b9zytZSqDwm",
        "colab_type": "text"
      },
      "cell_type": "markdown",
      "source": [
        "#### Data\n",
        "As we can see, the data is unstructured. This is because '\\n' or newline special character is encoded as it is instead of opening a new line. This character helps us split the string into lines. We just need to split the data at every newline character that we encounter."
      ]
    },
    {
      "metadata": {
        "id": "VVn0bSCpqDwo",
        "colab_type": "text"
      },
      "cell_type": "markdown",
      "source": [
        "### Representing in a List"
      ]
    },
    {
      "metadata": {
        "id": "7BpvUWdaqDwq",
        "colab_type": "code",
        "colab": {
          "base_uri": "https://localhost:8080/",
          "height": 312
        },
        "outputId": "3a93a828-9691-49b5-dda5-4579d8a6699d"
      },
      "cell_type": "code",
      "source": [
        "# Split lines into list.\n",
        "file_data_lines = file_data.split('\\n')\n",
        "file_data_lines"
      ],
      "execution_count": 16,
      "outputs": [
        {
          "output_type": "execute_result",
          "data": {
            "text/plain": [
              "['Loan_ID,Gender,Married,Education,ApplicantIncome,LoanAmount,Property_Area\\r',\n",
              " 'LP001015,Male,Yes,Graduate,5720,110,Urban\\r',\n",
              " 'LP001022,Male,Yes,Graduate,3076,126,Urban\\r',\n",
              " 'LP001031,Male,Yes,Graduate,5000,208,Urban\\r',\n",
              " 'LP001035,Male,Yes,Graduate,2340,100,Urban\\r',\n",
              " 'LP001051,Male,No,Not Graduate,3276,78,Urban\\r',\n",
              " 'LP001054,Male,Yes,Not Graduate,2165,152,Urban\\r',\n",
              " 'LP001055,Female,No,Not Graduate,2226,59,Semiurban\\r',\n",
              " 'LP001056,Male,Yes,Not Graduate,3881,147,Rural\\r',\n",
              " 'LP001059,Male,Yes,Graduate,13633,280,Urban\\r',\n",
              " 'LP001067,Male,No,Not Graduate,2400,123,Semiurban\\r',\n",
              " 'LP001078,Male,No,Not Graduate,3091,90,Urban\\r',\n",
              " 'LP001082,Male,Yes,Graduate,2185,162,Semiurban\\r',\n",
              " 'LP001083,Male,No,Graduate,4166,40,Urban\\r',\n",
              " 'LP001094,Male,Yes,Graduate,12173,166,Semiurban\\r',\n",
              " 'LP001096,Female,No,Graduate,4666,124,Semiurban\\r',\n",
              " 'LP001099,Male,No,Graduate,5667,131,Urban']"
            ]
          },
          "metadata": {
            "tags": []
          },
          "execution_count": 16
        }
      ]
    },
    {
      "metadata": {
        "id": "I3cXlY5RqDwv",
        "colab_type": "code",
        "colab": {
          "base_uri": "https://localhost:8080/",
          "height": 35
        },
        "outputId": "c4e9a9eb-883e-4e17-a7d6-11e0474728a3"
      },
      "cell_type": "code",
      "source": [
        "# Splitting induvidual lines.\n",
        "\n",
        "# The original string representation.\n",
        "file_data_lines[1]\n",
        "\n",
        "# The String split into different columns.\n",
        "file_data_lines[1].split(',')"
      ],
      "execution_count": 22,
      "outputs": [
        {
          "output_type": "execute_result",
          "data": {
            "text/plain": [
              "['LP001015', 'Male', 'Yes', 'Graduate', '5720', '110', 'Urban\\r']"
            ]
          },
          "metadata": {
            "tags": []
          },
          "execution_count": 22
        }
      ]
    },
    {
      "metadata": {
        "id": "XLUhJL1YqDw2",
        "colab_type": "text"
      },
      "cell_type": "markdown",
      "source": [
        "#### Creating a List of Lists\n",
        "We need to be able to access every cell and all the values. And for that, we will split every single string rows that are in the list into list of cell values."
      ]
    },
    {
      "metadata": {
        "id": "Yzx60ZkYqDw4",
        "colab_type": "code",
        "colab": {}
      },
      "cell_type": "code",
      "source": [
        "# Create the final cleaned list.\n",
        "cleaned_list=[]\n",
        "# Loop to iterate and process each line.\n",
        "\n",
        "for line in file_data_lines:\n",
        "  processed_line=line.split(',')\n",
        "  cleaned_list.append(processed_line)\n"
      ],
      "execution_count": 0,
      "outputs": []
    },
    {
      "metadata": {
        "scrolled": false,
        "id": "PrVvzU8YqDw8",
        "colab_type": "code",
        "colab": {
          "base_uri": "https://localhost:8080/",
          "height": 416
        },
        "outputId": "35ee884c-80f4-46a3-99f7-864dbbf9a5ae"
      },
      "cell_type": "code",
      "source": [
        "# Display the cleaned list.\n",
        "cleaned_list\n"
      ],
      "execution_count": 25,
      "outputs": [
        {
          "output_type": "execute_result",
          "data": {
            "text/plain": [
              "[['Loan_ID',\n",
              "  'Gender',\n",
              "  'Married',\n",
              "  'Education',\n",
              "  'ApplicantIncome',\n",
              "  'LoanAmount',\n",
              "  'Property_Area\\r'],\n",
              " ['LP001015', 'Male', 'Yes', 'Graduate', '5720', '110', 'Urban\\r'],\n",
              " ['LP001022', 'Male', 'Yes', 'Graduate', '3076', '126', 'Urban\\r'],\n",
              " ['LP001031', 'Male', 'Yes', 'Graduate', '5000', '208', 'Urban\\r'],\n",
              " ['LP001035', 'Male', 'Yes', 'Graduate', '2340', '100', 'Urban\\r'],\n",
              " ['LP001051', 'Male', 'No', 'Not Graduate', '3276', '78', 'Urban\\r'],\n",
              " ['LP001054', 'Male', 'Yes', 'Not Graduate', '2165', '152', 'Urban\\r'],\n",
              " ['LP001055', 'Female', 'No', 'Not Graduate', '2226', '59', 'Semiurban\\r'],\n",
              " ['LP001056', 'Male', 'Yes', 'Not Graduate', '3881', '147', 'Rural\\r'],\n",
              " ['LP001059', 'Male', 'Yes', 'Graduate', '13633', '280', 'Urban\\r'],\n",
              " ['LP001067', 'Male', 'No', 'Not Graduate', '2400', '123', 'Semiurban\\r'],\n",
              " ['LP001078', 'Male', 'No', 'Not Graduate', '3091', '90', 'Urban\\r'],\n",
              " ['LP001082', 'Male', 'Yes', 'Graduate', '2185', '162', 'Semiurban\\r'],\n",
              " ['LP001083', 'Male', 'No', 'Graduate', '4166', '40', 'Urban\\r'],\n",
              " ['LP001094', 'Male', 'Yes', 'Graduate', '12173', '166', 'Semiurban\\r'],\n",
              " ['LP001096', 'Female', 'No', 'Graduate', '4666', '124', 'Semiurban\\r'],\n",
              " ['LP001099', 'Male', 'No', 'Graduate', '5667', '131', 'Urban']]"
            ]
          },
          "metadata": {
            "tags": []
          },
          "execution_count": 25
        }
      ]
    },
    {
      "metadata": {
        "id": "mO5d0NSdqDxA",
        "colab_type": "text"
      },
      "cell_type": "markdown",
      "source": [
        "#### Accessing Data\n",
        "Now that we have represented our data in the form of a 2D matrix. It is very easy for us to access the elements. We can access it easy by:\n",
        "\n",
        "```\n",
        "matrix[row][column]\n",
        "```"
      ]
    },
    {
      "metadata": {
        "id": "aW2mLBgQqDxC",
        "colab_type": "code",
        "colab": {
          "base_uri": "https://localhost:8080/",
          "height": 35
        },
        "outputId": "d0e3d9cb-a0c0-447d-be76-f385ad21617d"
      },
      "cell_type": "code",
      "source": [
        "# Accessing LP001054 in the Loan ID.\n",
        "# Access a 2D matrix as matrix[row][column].\n",
        "cleaned_list[6][0]\n"
      ],
      "execution_count": 27,
      "outputs": [
        {
          "output_type": "execute_result",
          "data": {
            "text/plain": [
              "'LP001054'"
            ]
          },
          "metadata": {
            "tags": []
          },
          "execution_count": 27
        }
      ]
    },
    {
      "metadata": {
        "id": "wfWDEMGxqDxF",
        "colab_type": "text"
      },
      "cell_type": "markdown",
      "source": [
        "### Representing in a Dictionary.\n",
        "\n",
        "The data can be reperesented in a Python dictionary as follow :\n",
        "```\n",
        "data['column_name'] = [List of values in that particular column]\n",
        "```\n",
        "For that, we will create a dictionary with keys as the column names and data represented as list. Then, we will iterate through the rows containing the data and then append the values of a row to the corresponding keys of the column."
      ]
    },
    {
      "metadata": {
        "id": "_K7foDZmqDxG",
        "colab_type": "code",
        "colab": {
          "base_uri": "https://localhost:8080/",
          "height": 139
        },
        "outputId": "37caea79-8fd5-4911-c9d8-869b4910d646"
      },
      "cell_type": "code",
      "source": [
        "# Converting the data into a dictionary.\n",
        "# Creating the dicitonary with columns.\n",
        "cols=cleaned_list[0]\n",
        "loan_data_dict=dict.fromkeys(cols)\n",
        "cols"
      ],
      "execution_count": 29,
      "outputs": [
        {
          "output_type": "execute_result",
          "data": {
            "text/plain": [
              "['Loan_ID',\n",
              " 'Gender',\n",
              " 'Married',\n",
              " 'Education',\n",
              " 'ApplicantIncome',\n",
              " 'LoanAmount',\n",
              " 'Property_Area\\r']"
            ]
          },
          "metadata": {
            "tags": []
          },
          "execution_count": 29
        }
      ]
    },
    {
      "metadata": {
        "id": "pg0BJy_PqDxJ",
        "colab_type": "code",
        "colab": {}
      },
      "cell_type": "code",
      "source": [
        "# Initialize the dictionary with empty lists.\n",
        "for column in cols:\n",
        "  loan_data_dict[column]=[]\n"
      ],
      "execution_count": 0,
      "outputs": []
    },
    {
      "metadata": {
        "id": "YTqjeNC0qDxO",
        "colab_type": "code",
        "colab": {
          "base_uri": "https://localhost:8080/",
          "height": 139
        },
        "outputId": "b9ee42c5-0f94-4442-fbbb-4eb8404eda58"
      },
      "cell_type": "code",
      "source": [
        "# Display the dictionary.\n",
        "loan_data_dict"
      ],
      "execution_count": 31,
      "outputs": [
        {
          "output_type": "execute_result",
          "data": {
            "text/plain": [
              "{'ApplicantIncome': [],\n",
              " 'Education': [],\n",
              " 'Gender': [],\n",
              " 'LoanAmount': [],\n",
              " 'Loan_ID': [],\n",
              " 'Married': [],\n",
              " 'Property_Area\\r': []}"
            ]
          },
          "metadata": {
            "tags": []
          },
          "execution_count": 31
        }
      ]
    },
    {
      "metadata": {
        "id": "ZXi1_07mqDxS",
        "colab_type": "code",
        "colab": {}
      },
      "cell_type": "code",
      "source": [
        "# Append the values to the respective columns.\n",
        "for row in range(1,len(cleaned_list)):\n",
        "  loan_data_dict['Loan_ID'].append(cleaned_list[row][0])\n",
        "  loan_data_dict['Gender'].append(cleaned_list[row][1])\n",
        "  loan_data_dict['Married'].append(cleaned_list[row][2])\n",
        "  loan_data_dict['Education'].append(cleaned_list[row][3])\n",
        "  loan_data_dict['ApplicantIncome'].append(cleaned_list[row][4])\n",
        "  loan_data_dict['LoanAmount'].append(cleaned_list[row][5])\n",
        "  loan_data_dict['Property_Area\\r'].append(cleaned_list[row][6])"
      ],
      "execution_count": 0,
      "outputs": []
    },
    {
      "metadata": {
        "id": "t1IvGSLDqDxY",
        "colab_type": "code",
        "colab": {
          "base_uri": "https://localhost:8080/",
          "height": 2063
        },
        "outputId": "e8d0dd14-8ed4-495f-aaab-028d6f0def3f"
      },
      "cell_type": "code",
      "source": [
        "# Print the dict\n",
        "loan_data_dict"
      ],
      "execution_count": 35,
      "outputs": [
        {
          "output_type": "execute_result",
          "data": {
            "text/plain": [
              "{'ApplicantIncome': ['5720',\n",
              "  '5720',\n",
              "  '3076',\n",
              "  '5000',\n",
              "  '2340',\n",
              "  '3276',\n",
              "  '2165',\n",
              "  '2226',\n",
              "  '3881',\n",
              "  '13633',\n",
              "  '2400',\n",
              "  '3091',\n",
              "  '2185',\n",
              "  '4166',\n",
              "  '12173',\n",
              "  '4666',\n",
              "  '5667'],\n",
              " 'Education': ['Graduate',\n",
              "  'Graduate',\n",
              "  'Graduate',\n",
              "  'Graduate',\n",
              "  'Graduate',\n",
              "  'Not Graduate',\n",
              "  'Not Graduate',\n",
              "  'Not Graduate',\n",
              "  'Not Graduate',\n",
              "  'Graduate',\n",
              "  'Not Graduate',\n",
              "  'Not Graduate',\n",
              "  'Graduate',\n",
              "  'Graduate',\n",
              "  'Graduate',\n",
              "  'Graduate',\n",
              "  'Graduate'],\n",
              " 'Gender': ['Male',\n",
              "  'Male',\n",
              "  'Male',\n",
              "  'Male',\n",
              "  'Male',\n",
              "  'Male',\n",
              "  'Male',\n",
              "  'Female',\n",
              "  'Male',\n",
              "  'Male',\n",
              "  'Male',\n",
              "  'Male',\n",
              "  'Male',\n",
              "  'Male',\n",
              "  'Male',\n",
              "  'Female',\n",
              "  'Male'],\n",
              " 'LoanAmount': ['110',\n",
              "  '110',\n",
              "  '126',\n",
              "  '208',\n",
              "  '100',\n",
              "  '78',\n",
              "  '152',\n",
              "  '59',\n",
              "  '147',\n",
              "  '280',\n",
              "  '123',\n",
              "  '90',\n",
              "  '162',\n",
              "  '40',\n",
              "  '166',\n",
              "  '124',\n",
              "  '131'],\n",
              " 'Loan_ID': ['LP001015',\n",
              "  'LP001015',\n",
              "  'LP001022',\n",
              "  'LP001031',\n",
              "  'LP001035',\n",
              "  'LP001051',\n",
              "  'LP001054',\n",
              "  'LP001055',\n",
              "  'LP001056',\n",
              "  'LP001059',\n",
              "  'LP001067',\n",
              "  'LP001078',\n",
              "  'LP001082',\n",
              "  'LP001083',\n",
              "  'LP001094',\n",
              "  'LP001096',\n",
              "  'LP001099'],\n",
              " 'Married': ['Yes',\n",
              "  'Yes',\n",
              "  'Yes',\n",
              "  'Yes',\n",
              "  'Yes',\n",
              "  'No',\n",
              "  'Yes',\n",
              "  'No',\n",
              "  'Yes',\n",
              "  'Yes',\n",
              "  'No',\n",
              "  'No',\n",
              "  'Yes',\n",
              "  'No',\n",
              "  'Yes',\n",
              "  'No',\n",
              "  'No'],\n",
              " 'Property_Area\\r': ['Urban\\r',\n",
              "  'Urban\\r',\n",
              "  'Urban\\r',\n",
              "  'Urban\\r',\n",
              "  'Urban\\r',\n",
              "  'Urban\\r',\n",
              "  'Semiurban\\r',\n",
              "  'Rural\\r',\n",
              "  'Urban\\r',\n",
              "  'Semiurban\\r',\n",
              "  'Urban\\r',\n",
              "  'Semiurban\\r',\n",
              "  'Urban\\r',\n",
              "  'Semiurban\\r',\n",
              "  'Semiurban\\r',\n",
              "  'Urban']}"
            ]
          },
          "metadata": {
            "tags": []
          },
          "execution_count": 35
        }
      ]
    },
    {
      "metadata": {
        "id": "bL_JEgSHqDxb",
        "colab_type": "code",
        "colab": {
          "base_uri": "https://localhost:8080/",
          "height": 312
        },
        "outputId": "0de7baa1-cf67-4086-c61a-f85f4eeadd13"
      },
      "cell_type": "code",
      "source": [
        "# Accessing just the LoadIds\n",
        "loan_data_dict['Loan_ID']"
      ],
      "execution_count": 39,
      "outputs": [
        {
          "output_type": "execute_result",
          "data": {
            "text/plain": [
              "['LP001015',\n",
              " 'LP001015',\n",
              " 'LP001022',\n",
              " 'LP001031',\n",
              " 'LP001035',\n",
              " 'LP001051',\n",
              " 'LP001054',\n",
              " 'LP001055',\n",
              " 'LP001056',\n",
              " 'LP001059',\n",
              " 'LP001067',\n",
              " 'LP001078',\n",
              " 'LP001082',\n",
              " 'LP001083',\n",
              " 'LP001094',\n",
              " 'LP001096',\n",
              " 'LP001099']"
            ]
          },
          "metadata": {
            "tags": []
          },
          "execution_count": 39
        }
      ]
    },
    {
      "metadata": {
        "id": "iGbbVkTzqDxe",
        "colab_type": "text"
      },
      "cell_type": "markdown",
      "source": [
        "### In conclusion\n",
        "The use of list and Lists and Dictionaries to process data was to give you a very fundamental understanding on how data can be processed and loaded. However, when it comes to huge data, we will need a better and faster framework. Looping poses a serious overhead to performance. We will be discussing more on Numpy and Pandas and discuss how we can load and process data easily and efficiently.\n",
        "\n",
        "This free course on [Udacity](https://classroom.udacity.com/courses/ud170-india) can help understanding data processing in great detail."
      ]
    },
    {
      "metadata": {
        "id": "L_qGvaYCqDxf",
        "colab_type": "text"
      },
      "cell_type": "markdown",
      "source": [
        "### Assignment\n",
        "\n",
        "In the file *Data/test.csv* you are supposed to do the following processing. In the given assignment.ipynb notebook, work out the questions mentioned. Active students in the community, in terms of completion of assignments properly as well as helping out others will recieve commendation from School of AI, Trivandrum and also amazing merchandise."
      ]
    }
  ]
}