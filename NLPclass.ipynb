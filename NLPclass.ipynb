{
  "nbformat": 4,
  "nbformat_minor": 0,
  "metadata": {
    "colab": {
      "name": "NLPclass.ipynb",
      "version": "0.3.2",
      "provenance": [],
      "include_colab_link": true
    },
    "kernelspec": {
      "name": "python3",
      "display_name": "Python 3"
    }
  },
  "cells": [
    {
      "cell_type": "markdown",
      "metadata": {
        "id": "view-in-github",
        "colab_type": "text"
      },
      "source": [
        "<a href=\"https://colab.research.google.com/github/miniaishwarya/miniaishwarya/blob/master/NLPclass.ipynb\" target=\"_parent\"><img src=\"https://colab.research.google.com/assets/colab-badge.svg\" alt=\"Open In Colab\"/></a>"
      ]
    },
    {
      "metadata": {
        "id": "-UuD4VUz_Wpw",
        "colab_type": "code",
        "colab": {}
      },
      "cell_type": "code",
      "source": [
        "import nltk\n",
        "from nltk.parse import RecursiveDescentParser\n",
        "from nltk import CFG\n",
        "\n",
        "grammar2= nltk.CFG.fromstring(\"\"\"\n",
        "S -> Np VP\n",
        "VP -> V\n",
        "NP -> Det N\n",
        "Det -> 'the'\n",
        "N -> 'bear'\n",
        "V -> 'chased'\n",
        "\"\"\")"
      ],
      "execution_count": 0,
      "outputs": []
    },
    {
      "metadata": {
        "id": "M-k-2KYpBMhB",
        "colab_type": "code",
        "colab": {
          "base_uri": "https://localhost:8080/",
          "height": 34
        },
        "outputId": "0c534f3e-c5d9-4364-9f32-ef6b81226b7f"
      },
      "cell_type": "code",
      "source": [
        "sent='the bear chased'.split()\n",
        "rd_parsed=nltk.RecursiveDescentParser(grammar2)\n",
        "print(sent)\n",
        "\n",
        "for tree in rd_parsed.parse(sent):\n",
        "  print(tree)"
      ],
      "execution_count": 6,
      "outputs": [
        {
          "output_type": "stream",
          "text": [
            "['the', 'bear', 'chased']\n"
          ],
          "name": "stdout"
        }
      ]
    }
  ]
}